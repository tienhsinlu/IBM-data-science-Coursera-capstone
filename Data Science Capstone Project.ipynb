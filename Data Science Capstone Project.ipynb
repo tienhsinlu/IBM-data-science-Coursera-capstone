{
    "cells": [
        {
            "cell_type": "markdown",
            "metadata": {
                "collapsed": true
            },
            "source": "# IBM Coursera Data Science Project"
        },
        {
            "cell_type": "markdown",
            "metadata": {},
            "source": "This Notebook will be mainly used for the Capstone Project for the IBM Data Science Specialization via Coursera."
        },
        {
            "cell_type": "code",
            "execution_count": 2,
            "metadata": {},
            "outputs": [],
            "source": "import numpy as np\nimport pandas as pd"
        },
        {
            "cell_type": "code",
            "execution_count": 3,
            "metadata": {},
            "outputs": [
                {
                    "name": "stdout",
                    "output_type": "stream",
                    "text": "Hello Capstone Project Course!\n"
                }
            ],
            "source": "print(\"Hello Capstone Project Course!\")"
        },
        {
            "cell_type": "code",
            "execution_count": 4,
            "metadata": {},
            "outputs": [],
            "source": "import itertools\nimport matplotlib.pyplot as plt\nfrom matplotlib.ticker import NullFormatter\nimport matplotlib.ticker as ticker\nfrom sklearn import preprocessing\n%matplotlib inline"
        },
        {
            "cell_type": "markdown",
            "metadata": {},
            "source": "### About dataset"
        },
        {
            "cell_type": "markdown",
            "metadata": {},
            "source": "This dataset is about Collisions, provided by SPD and recorded by Traffic Records. The dataset includes all types of collisions. Collision will display at the intersection or mid-block of a segment from 2004 to present, updated weekly."
        },
        {
            "cell_type": "markdown",
            "metadata": {},
            "source": "### Load Dataset from CSV file"
        },
        {
            "cell_type": "code",
            "execution_count": 5,
            "metadata": {},
            "outputs": [
                {
                    "name": "stderr",
                    "output_type": "stream",
                    "text": "/opt/conda/envs/Python36/lib/python3.6/site-packages/IPython/core/interactiveshell.py:3020: DtypeWarning: Columns (33) have mixed types. Specify dtype option on import or set low_memory=False.\n  interactivity=interactivity, compiler=compiler, result=result)\n"
                },
                {
                    "data": {
                        "text/html": "<div>\n<style scoped>\n    .dataframe tbody tr th:only-of-type {\n        vertical-align: middle;\n    }\n\n    .dataframe tbody tr th {\n        vertical-align: top;\n    }\n\n    .dataframe thead th {\n        text-align: right;\n    }\n</style>\n<table border=\"1\" class=\"dataframe\">\n  <thead>\n    <tr style=\"text-align: right;\">\n      <th></th>\n      <th>SEVERITYCODE</th>\n      <th>X</th>\n      <th>Y</th>\n      <th>OBJECTID</th>\n      <th>INCKEY</th>\n      <th>COLDETKEY</th>\n      <th>REPORTNO</th>\n      <th>STATUS</th>\n      <th>ADDRTYPE</th>\n      <th>INTKEY</th>\n      <th>...</th>\n      <th>ROADCOND</th>\n      <th>LIGHTCOND</th>\n      <th>PEDROWNOTGRNT</th>\n      <th>SDOTCOLNUM</th>\n      <th>SPEEDING</th>\n      <th>ST_COLCODE</th>\n      <th>ST_COLDESC</th>\n      <th>SEGLANEKEY</th>\n      <th>CROSSWALKKEY</th>\n      <th>HITPARKEDCAR</th>\n    </tr>\n  </thead>\n  <tbody>\n    <tr>\n      <th>0</th>\n      <td>2</td>\n      <td>-122.323148</td>\n      <td>47.703140</td>\n      <td>1</td>\n      <td>1307</td>\n      <td>1307</td>\n      <td>3502005</td>\n      <td>Matched</td>\n      <td>Intersection</td>\n      <td>37475.0</td>\n      <td>...</td>\n      <td>Wet</td>\n      <td>Daylight</td>\n      <td>NaN</td>\n      <td>NaN</td>\n      <td>NaN</td>\n      <td>10</td>\n      <td>Entering at angle</td>\n      <td>0</td>\n      <td>0</td>\n      <td>N</td>\n    </tr>\n    <tr>\n      <th>1</th>\n      <td>1</td>\n      <td>-122.347294</td>\n      <td>47.647172</td>\n      <td>2</td>\n      <td>52200</td>\n      <td>52200</td>\n      <td>2607959</td>\n      <td>Matched</td>\n      <td>Block</td>\n      <td>NaN</td>\n      <td>...</td>\n      <td>Wet</td>\n      <td>Dark - Street Lights On</td>\n      <td>NaN</td>\n      <td>6354039.0</td>\n      <td>NaN</td>\n      <td>11</td>\n      <td>From same direction - both going straight - bo...</td>\n      <td>0</td>\n      <td>0</td>\n      <td>N</td>\n    </tr>\n    <tr>\n      <th>2</th>\n      <td>1</td>\n      <td>-122.334540</td>\n      <td>47.607871</td>\n      <td>3</td>\n      <td>26700</td>\n      <td>26700</td>\n      <td>1482393</td>\n      <td>Matched</td>\n      <td>Block</td>\n      <td>NaN</td>\n      <td>...</td>\n      <td>Dry</td>\n      <td>Daylight</td>\n      <td>NaN</td>\n      <td>4323031.0</td>\n      <td>NaN</td>\n      <td>32</td>\n      <td>One parked--one moving</td>\n      <td>0</td>\n      <td>0</td>\n      <td>N</td>\n    </tr>\n    <tr>\n      <th>3</th>\n      <td>1</td>\n      <td>-122.334803</td>\n      <td>47.604803</td>\n      <td>4</td>\n      <td>1144</td>\n      <td>1144</td>\n      <td>3503937</td>\n      <td>Matched</td>\n      <td>Block</td>\n      <td>NaN</td>\n      <td>...</td>\n      <td>Dry</td>\n      <td>Daylight</td>\n      <td>NaN</td>\n      <td>NaN</td>\n      <td>NaN</td>\n      <td>23</td>\n      <td>From same direction - all others</td>\n      <td>0</td>\n      <td>0</td>\n      <td>N</td>\n    </tr>\n    <tr>\n      <th>4</th>\n      <td>2</td>\n      <td>-122.306426</td>\n      <td>47.545739</td>\n      <td>5</td>\n      <td>17700</td>\n      <td>17700</td>\n      <td>1807429</td>\n      <td>Matched</td>\n      <td>Intersection</td>\n      <td>34387.0</td>\n      <td>...</td>\n      <td>Wet</td>\n      <td>Daylight</td>\n      <td>NaN</td>\n      <td>4028032.0</td>\n      <td>NaN</td>\n      <td>10</td>\n      <td>Entering at angle</td>\n      <td>0</td>\n      <td>0</td>\n      <td>N</td>\n    </tr>\n  </tbody>\n</table>\n<p>5 rows \u00d7 38 columns</p>\n</div>",
                        "text/plain": "   SEVERITYCODE           X          Y  OBJECTID  INCKEY  COLDETKEY REPORTNO  \\\n0             2 -122.323148  47.703140         1    1307       1307  3502005   \n1             1 -122.347294  47.647172         2   52200      52200  2607959   \n2             1 -122.334540  47.607871         3   26700      26700  1482393   \n3             1 -122.334803  47.604803         4    1144       1144  3503937   \n4             2 -122.306426  47.545739         5   17700      17700  1807429   \n\n    STATUS      ADDRTYPE   INTKEY  ... ROADCOND                LIGHTCOND  \\\n0  Matched  Intersection  37475.0  ...      Wet                 Daylight   \n1  Matched         Block      NaN  ...      Wet  Dark - Street Lights On   \n2  Matched         Block      NaN  ...      Dry                 Daylight   \n3  Matched         Block      NaN  ...      Dry                 Daylight   \n4  Matched  Intersection  34387.0  ...      Wet                 Daylight   \n\n  PEDROWNOTGRNT  SDOTCOLNUM SPEEDING ST_COLCODE  \\\n0           NaN         NaN      NaN         10   \n1           NaN   6354039.0      NaN         11   \n2           NaN   4323031.0      NaN         32   \n3           NaN         NaN      NaN         23   \n4           NaN   4028032.0      NaN         10   \n\n                                          ST_COLDESC  SEGLANEKEY  \\\n0                                  Entering at angle           0   \n1  From same direction - both going straight - bo...           0   \n2                             One parked--one moving           0   \n3                   From same direction - all others           0   \n4                                  Entering at angle           0   \n\n   CROSSWALKKEY  HITPARKEDCAR  \n0             0             N  \n1             0             N  \n2             0             N  \n3             0             N  \n4             0             N  \n\n[5 rows x 38 columns]"
                    },
                    "execution_count": 5,
                    "metadata": {},
                    "output_type": "execute_result"
                }
            ],
            "source": "# The code was removed by Watson Studio for sharing."
        },
        {
            "cell_type": "code",
            "execution_count": 6,
            "metadata": {},
            "outputs": [
                {
                    "data": {
                        "text/plain": "(194673, 38)"
                    },
                    "execution_count": 6,
                    "metadata": {},
                    "output_type": "execute_result"
                }
            ],
            "source": "df.shape"
        },
        {
            "cell_type": "markdown",
            "metadata": {},
            "source": "## Introduction: Business Understanding"
        },
        {
            "cell_type": "markdown",
            "metadata": {},
            "source": "In order to reduce the frequency of car accidents/collisions in a community, this project is developed to predict the severity of an accident given the current weather, road and visibility conditions. This model will be able to predict the severity of accidents/ collisions and alert the drivers to be more careful if the conditions are critical."
        },
        {
            "cell_type": "markdown",
            "metadata": {},
            "source": "## Data Understanding and Data Preparation"
        },
        {
            "cell_type": "markdown",
            "metadata": {},
            "source": "Our target variable will be 'SEVERITYCODE', which is used to measure the severity of an accident. Attributes that will be used to measure the severity of an accident are 'WEATHER', 'ROADCOND', and 'LIGHTCOND', which represent the current weather, road condition, and light condition, respectively."
        },
        {
            "cell_type": "markdown",
            "metadata": {},
            "source": "The raw dataset is not ideal for data analysis and the development of the desired algrorithm. First of all, there are many columns that we will not use for this model. Also, most of the features are of type object, when they should be numerical type. Now it's time to do some extracting and converting to the dataset."
        },
        {
            "cell_type": "markdown",
            "metadata": {},
            "source": "### Data extracting and converting\n#### Dropping unnecessary columns/attributes"
        },
        {
            "cell_type": "code",
            "execution_count": 7,
            "metadata": {},
            "outputs": [
                {
                    "data": {
                        "text/html": "<div>\n<style scoped>\n    .dataframe tbody tr th:only-of-type {\n        vertical-align: middle;\n    }\n\n    .dataframe tbody tr th {\n        vertical-align: top;\n    }\n\n    .dataframe thead th {\n        text-align: right;\n    }\n</style>\n<table border=\"1\" class=\"dataframe\">\n  <thead>\n    <tr style=\"text-align: right;\">\n      <th></th>\n      <th>SEVERITYCODE</th>\n      <th>WEATHER</th>\n      <th>ROADCOND</th>\n      <th>LIGHTCOND</th>\n    </tr>\n  </thead>\n  <tbody>\n    <tr>\n      <th>0</th>\n      <td>2</td>\n      <td>Overcast</td>\n      <td>Wet</td>\n      <td>Daylight</td>\n    </tr>\n    <tr>\n      <th>1</th>\n      <td>1</td>\n      <td>Raining</td>\n      <td>Wet</td>\n      <td>Dark - Street Lights On</td>\n    </tr>\n    <tr>\n      <th>2</th>\n      <td>1</td>\n      <td>Overcast</td>\n      <td>Dry</td>\n      <td>Daylight</td>\n    </tr>\n    <tr>\n      <th>3</th>\n      <td>1</td>\n      <td>Clear</td>\n      <td>Dry</td>\n      <td>Daylight</td>\n    </tr>\n    <tr>\n      <th>4</th>\n      <td>2</td>\n      <td>Raining</td>\n      <td>Wet</td>\n      <td>Daylight</td>\n    </tr>\n  </tbody>\n</table>\n</div>",
                        "text/plain": "   SEVERITYCODE   WEATHER ROADCOND                LIGHTCOND\n0             2  Overcast      Wet                 Daylight\n1             1   Raining      Wet  Dark - Street Lights On\n2             1  Overcast      Dry                 Daylight\n3             1     Clear      Dry                 Daylight\n4             2   Raining      Wet                 Daylight"
                    },
                    "execution_count": 7,
                    "metadata": {},
                    "output_type": "execute_result"
                }
            ],
            "source": "df = df[['SEVERITYCODE','WEATHER','ROADCOND','LIGHTCOND']]\ndf.head()"
        },
        {
            "cell_type": "markdown",
            "metadata": {},
            "source": "#### Checking the data types"
        },
        {
            "cell_type": "code",
            "execution_count": 8,
            "metadata": {},
            "outputs": [
                {
                    "data": {
                        "text/plain": "SEVERITYCODE     int64\nWEATHER         object\nROADCOND        object\nLIGHTCOND       object\ndtype: object"
                    },
                    "execution_count": 8,
                    "metadata": {},
                    "output_type": "execute_result"
                }
            ],
            "source": "df.dtypes"
        },
        {
            "cell_type": "code",
            "execution_count": 9,
            "metadata": {},
            "outputs": [
                {
                    "data": {
                        "text/plain": "1    136485\n2     58188\nName: SEVERITYCODE, dtype: int64"
                    },
                    "execution_count": 9,
                    "metadata": {},
                    "output_type": "execute_result"
                }
            ],
            "source": "df['SEVERITYCODE'].value_counts()"
        },
        {
            "cell_type": "markdown",
            "metadata": {},
            "source": "#### Balancing data:\nWe observed that there is a lot more rows that have SEVERITYCODE as \"1\" than that as \"2\", hence, we need to balance the data in order to have unbiased results."
        },
        {
            "cell_type": "code",
            "execution_count": 10,
            "metadata": {},
            "outputs": [
                {
                    "data": {
                        "text/plain": "2    58188\n1    58188\nName: SEVERITYCODE, dtype: int64"
                    },
                    "execution_count": 10,
                    "metadata": {},
                    "output_type": "execute_result"
                }
            ],
            "source": "from sklearn.utils import resample\ndf_majority = df[df.SEVERITYCODE==1]\ndf_minority = df[df.SEVERITYCODE==2]\ndf_majority_downsampled = resample(df_majority, \n                                 replace=False,    # sample without replacement\n                                 n_samples=58188,     # to match minority class\n                                 random_state=123)\ndf_downsampled = pd.concat([df_majority_downsampled, df_minority])\ndf_downsampled['SEVERITYCODE'].value_counts()\n"
        },
        {
            "cell_type": "code",
            "execution_count": 11,
            "metadata": {},
            "outputs": [
                {
                    "data": {
                        "text/html": "<div>\n<style scoped>\n    .dataframe tbody tr th:only-of-type {\n        vertical-align: middle;\n    }\n\n    .dataframe tbody tr th {\n        vertical-align: top;\n    }\n\n    .dataframe thead th {\n        text-align: right;\n    }\n</style>\n<table border=\"1\" class=\"dataframe\">\n  <thead>\n    <tr style=\"text-align: right;\">\n      <th></th>\n      <th>SEVERITYCODE</th>\n      <th>WEATHER</th>\n      <th>ROADCOND</th>\n      <th>LIGHTCOND</th>\n    </tr>\n  </thead>\n  <tbody>\n    <tr>\n      <th>25055</th>\n      <td>1</td>\n      <td>Raining</td>\n      <td>Wet</td>\n      <td>Dark - Street Lights On</td>\n    </tr>\n    <tr>\n      <th>65280</th>\n      <td>1</td>\n      <td>Clear</td>\n      <td>Dry</td>\n      <td>Daylight</td>\n    </tr>\n    <tr>\n      <th>86292</th>\n      <td>1</td>\n      <td>Unknown</td>\n      <td>Unknown</td>\n      <td>Unknown</td>\n    </tr>\n    <tr>\n      <th>155111</th>\n      <td>1</td>\n      <td>Clear</td>\n      <td>Dry</td>\n      <td>Daylight</td>\n    </tr>\n    <tr>\n      <th>64598</th>\n      <td>1</td>\n      <td>Clear</td>\n      <td>Dry</td>\n      <td>Daylight</td>\n    </tr>\n  </tbody>\n</table>\n</div>",
                        "text/plain": "        SEVERITYCODE  WEATHER ROADCOND                LIGHTCOND\n25055              1  Raining      Wet  Dark - Street Lights On\n65280              1    Clear      Dry                 Daylight\n86292              1  Unknown  Unknown                  Unknown\n155111             1    Clear      Dry                 Daylight\n64598              1    Clear      Dry                 Daylight"
                    },
                    "execution_count": 11,
                    "metadata": {},
                    "output_type": "execute_result"
                }
            ],
            "source": "df = df_downsampled\ndf.head()"
        },
        {
            "cell_type": "markdown",
            "metadata": {},
            "source": "#### Converting data:\nThe next step is to convert the categorical data to numerical value data. Let's first check out how each each attribute affects the severity code under each condition:"
        },
        {
            "cell_type": "code",
            "execution_count": 43,
            "metadata": {},
            "outputs": [
                {
                    "data": {
                        "text/html": "<div>\n<style scoped>\n    .dataframe tbody tr th:only-of-type {\n        vertical-align: middle;\n    }\n\n    .dataframe tbody tr th {\n        vertical-align: top;\n    }\n\n    .dataframe thead th {\n        text-align: right;\n    }\n</style>\n<table border=\"1\" class=\"dataframe\">\n  <thead>\n    <tr style=\"text-align: right;\">\n      <th></th>\n      <th>WEATHER</th>\n      <th>SEVERITYCODE</th>\n      <th>Count</th>\n    </tr>\n  </thead>\n  <tbody>\n    <tr>\n      <th>0</th>\n      <td>Blowing Sand/Dirt</td>\n      <td>1</td>\n      <td>15</td>\n    </tr>\n    <tr>\n      <th>1</th>\n      <td>Blowing Sand/Dirt</td>\n      <td>2</td>\n      <td>15</td>\n    </tr>\n    <tr>\n      <th>2</th>\n      <td>Clear</td>\n      <td>2</td>\n      <td>35840</td>\n    </tr>\n    <tr>\n      <th>3</th>\n      <td>Clear</td>\n      <td>1</td>\n      <td>32106</td>\n    </tr>\n    <tr>\n      <th>4</th>\n      <td>Fog/Smog/Smoke</td>\n      <td>2</td>\n      <td>187</td>\n    </tr>\n  </tbody>\n</table>\n</div>",
                        "text/plain": "             WEATHER  SEVERITYCODE  Count\n0  Blowing Sand/Dirt             1     15\n1  Blowing Sand/Dirt             2     15\n2              Clear             2  35840\n3              Clear             1  32106\n4     Fog/Smog/Smoke             2    187"
                    },
                    "execution_count": 43,
                    "metadata": {},
                    "output_type": "execute_result"
                }
            ],
            "source": "df_weather = pd.DataFrame(df.groupby(['WEATHER']).SEVERITYCODE.value_counts())\ndf_weather.rename(columns={'SEVERITYCODE': 'Count'}, inplace=True)\ndf_weather.reset_index(inplace=True)\ndf_weather.head()"
        },
        {
            "cell_type": "code",
            "execution_count": 49,
            "metadata": {},
            "outputs": [
                {
                    "data": {
                        "image/png": "[encoded data removed]",
                        "text/plain": "<Figure size 432x288 with 1 Axes>"
                    },
                    "metadata": {
                        "needs_background": "light"
                    },
                    "output_type": "display_data"
                }
            ],
            "source": "import seaborn as sns\np1 = sns.barplot(x='WEATHER', y= 'Count', data=df_weather, hue='SEVERITYCODE')\np1.set_xticklabels(p1.get_xticklabels(), rotation=90)\nplt.show()"
        },
        {
            "cell_type": "code",
            "execution_count": 50,
            "metadata": {},
            "outputs": [
                {
                    "data": {
                        "text/html": "<div>\n<style scoped>\n    .dataframe tbody tr th:only-of-type {\n        vertical-align: middle;\n    }\n\n    .dataframe tbody tr th {\n        vertical-align: top;\n    }\n\n    .dataframe thead th {\n        text-align: right;\n    }\n</style>\n<table border=\"1\" class=\"dataframe\">\n  <thead>\n    <tr style=\"text-align: right;\">\n      <th></th>\n      <th>ROADCOND</th>\n      <th>SEVERITYCODE</th>\n      <th>Count</th>\n    </tr>\n  </thead>\n  <tbody>\n    <tr>\n      <th>0</th>\n      <td>Dry</td>\n      <td>2</td>\n      <td>40064</td>\n    </tr>\n    <tr>\n      <th>1</th>\n      <td>Dry</td>\n      <td>1</td>\n      <td>35936</td>\n    </tr>\n    <tr>\n      <th>2</th>\n      <td>Ice</td>\n      <td>1</td>\n      <td>405</td>\n    </tr>\n    <tr>\n      <th>3</th>\n      <td>Ice</td>\n      <td>2</td>\n      <td>273</td>\n    </tr>\n    <tr>\n      <th>4</th>\n      <td>Oil</td>\n      <td>2</td>\n      <td>24</td>\n    </tr>\n  </tbody>\n</table>\n</div>",
                        "text/plain": "  ROADCOND  SEVERITYCODE  Count\n0      Dry             2  40064\n1      Dry             1  35936\n2      Ice             1    405\n3      Ice             2    273\n4      Oil             2     24"
                    },
                    "execution_count": 50,
                    "metadata": {},
                    "output_type": "execute_result"
                }
            ],
            "source": "df_roadcond = pd.DataFrame(df.groupby(['ROADCOND'])['SEVERITYCODE'].value_counts())\ndf_roadcond.rename(columns={'SEVERITYCODE': 'Count'}, inplace=True)\ndf_roadcond.reset_index(inplace=True)\ndf_roadcond.head()"
        },
        {
            "cell_type": "code",
            "execution_count": 52,
            "metadata": {},
            "outputs": [
                {
                    "data": {
                        "image/png": "[encoded data removed]",
                        "text/plain": "<Figure size 432x288 with 1 Axes>"
                    },
                    "metadata": {
                        "needs_background": "light"
                    },
                    "output_type": "display_data"
                }
            ],
            "source": "p2 = sns.barplot(x='ROADCOND', y= 'Count', data=df_roadcond, hue='SEVERITYCODE')\np2.set_xticklabels(p2.get_xticklabels(), rotation=90)\nplt.show()"
        },
        {
            "cell_type": "code",
            "execution_count": 53,
            "metadata": {
                "scrolled": true
            },
            "outputs": [
                {
                    "data": {
                        "text/html": "<div>\n<style scoped>\n    .dataframe tbody tr th:only-of-type {\n        vertical-align: middle;\n    }\n\n    .dataframe tbody tr th {\n        vertical-align: top;\n    }\n\n    .dataframe thead th {\n        text-align: right;\n    }\n</style>\n<table border=\"1\" class=\"dataframe\">\n  <thead>\n    <tr style=\"text-align: right;\">\n      <th></th>\n      <th>LIGHTCOND</th>\n      <th>SEVERITYCODE</th>\n      <th>Count</th>\n    </tr>\n  </thead>\n  <tbody>\n    <tr>\n      <th>0</th>\n      <td>Dark - No Street Lights</td>\n      <td>1</td>\n      <td>532</td>\n    </tr>\n    <tr>\n      <th>1</th>\n      <td>Dark - No Street Lights</td>\n      <td>2</td>\n      <td>334</td>\n    </tr>\n    <tr>\n      <th>2</th>\n      <td>Dark - Street Lights Off</td>\n      <td>1</td>\n      <td>387</td>\n    </tr>\n    <tr>\n      <th>3</th>\n      <td>Dark - Street Lights Off</td>\n      <td>2</td>\n      <td>316</td>\n    </tr>\n    <tr>\n      <th>4</th>\n      <td>Dark - Street Lights On</td>\n      <td>1</td>\n      <td>14658</td>\n    </tr>\n  </tbody>\n</table>\n</div>",
                        "text/plain": "                  LIGHTCOND  SEVERITYCODE  Count\n0   Dark - No Street Lights             1    532\n1   Dark - No Street Lights             2    334\n2  Dark - Street Lights Off             1    387\n3  Dark - Street Lights Off             2    316\n4   Dark - Street Lights On             1  14658"
                    },
                    "execution_count": 53,
                    "metadata": {},
                    "output_type": "execute_result"
                }
            ],
            "source": "df_lightcond = pd.DataFrame(df.groupby(['LIGHTCOND'])['SEVERITYCODE'].value_counts())\ndf_lightcond.rename(columns={'SEVERITYCODE': 'Count'}, inplace=True)\ndf_lightcond.reset_index(inplace=True)\ndf_lightcond.head()"
        },
        {
            "cell_type": "code",
            "execution_count": 55,
            "metadata": {},
            "outputs": [
                {
                    "data": {
                        "image/png": "[encoded data removed]",
                        "text/plain": "<Figure size 432x288 with 1 Axes>"
                    },
                    "metadata": {
                        "needs_background": "light"
                    },
                    "output_type": "display_data"
                }
            ],
            "source": "p3 = sns.barplot(x='LIGHTCOND', y= 'Count', data=df_lightcond, hue='SEVERITYCODE')\np3.set_xticklabels(p3.get_xticklabels(), rotation=90)\nplt.show()"
        },
        {
            "cell_type": "markdown",
            "metadata": {},
            "source": "#### Converting"
        },
        {
            "cell_type": "code",
            "execution_count": 58,
            "metadata": {},
            "outputs": [
                {
                    "data": {
                        "text/html": "<div>\n<style scoped>\n    .dataframe tbody tr th:only-of-type {\n        vertical-align: middle;\n    }\n\n    .dataframe tbody tr th {\n        vertical-align: top;\n    }\n\n    .dataframe thead th {\n        text-align: right;\n    }\n</style>\n<table border=\"1\" class=\"dataframe\">\n  <thead>\n    <tr style=\"text-align: right;\">\n      <th></th>\n      <th>SEVERITYCODE</th>\n      <th>WEATHER</th>\n      <th>ROADCOND</th>\n      <th>LIGHTCOND</th>\n    </tr>\n  </thead>\n  <tbody>\n    <tr>\n      <th>25055</th>\n      <td>1</td>\n      <td>7</td>\n      <td>9</td>\n      <td>3</td>\n    </tr>\n    <tr>\n      <th>65280</th>\n      <td>1</td>\n      <td>2</td>\n      <td>1</td>\n      <td>6</td>\n    </tr>\n    <tr>\n      <th>86292</th>\n      <td>1</td>\n      <td>11</td>\n      <td>8</td>\n      <td>9</td>\n    </tr>\n    <tr>\n      <th>155111</th>\n      <td>1</td>\n      <td>2</td>\n      <td>1</td>\n      <td>6</td>\n    </tr>\n    <tr>\n      <th>64598</th>\n      <td>1</td>\n      <td>2</td>\n      <td>1</td>\n      <td>6</td>\n    </tr>\n  </tbody>\n</table>\n</div>",
                        "text/plain": "        SEVERITYCODE  WEATHER  ROADCOND  LIGHTCOND\n25055              1        7         9          3\n65280              1        2         1          6\n86292              1       11         8          9\n155111             1        2         1          6\n64598              1        2         1          6"
                    },
                    "execution_count": 58,
                    "metadata": {},
                    "output_type": "execute_result"
                }
            ],
            "source": "df.WEATHER = pd.Categorical(df.WEATHER).codes\ndf.ROADCOND = pd.Categorical(df.ROADCOND).codes\ndf.LIGHTCOND = pd.Categorical(df.LIGHTCOND).codes\ndf.head()"
        },
        {
            "cell_type": "code",
            "execution_count": 59,
            "metadata": {},
            "outputs": [
                {
                    "data": {
                        "text/plain": "LIGHTCOND  SEVERITYCODE\n0          1               0.617275\n           2               0.382725\n1          1               0.614319\n           2               0.385681\n2          1               0.550498\n           2               0.449502\n3          1               0.503141\n           2               0.496859\n4          2               0.571429\n           1               0.428571\n5          2               0.536808\n           1               0.463192\n6          2               0.539054\n           1               0.460946\n7          2               0.541203\n           1               0.458797\n8          1               0.590551\n           2               0.409449\n9          1               0.900198\n           2               0.099802\nName: SEVERITYCODE, dtype: float64"
                    },
                    "execution_count": 59,
                    "metadata": {},
                    "output_type": "execute_result"
                }
            ],
            "source": "df.groupby(['LIGHTCOND'])['SEVERITYCODE'].value_counts(normalize = True)"
        },
        {
            "cell_type": "code",
            "execution_count": 60,
            "metadata": {
                "scrolled": true
            },
            "outputs": [
                {
                    "data": {
                        "text/plain": "ROADCOND  SEVERITYCODE\n0         1               0.616498\n          2               0.383502\n1         2               0.527158\n          1               0.472842\n2         1               0.597345\n          2               0.402655\n3         2               0.615385\n          1               0.384615\n4         2               0.518072\n          1               0.481928\n5         1               0.510638\n          2               0.489362\n6         1               0.683712\n          2               0.316288\n7         2               0.526316\n          1               0.473684\n8         1               0.889950\n          2               0.110050\n9         2               0.536359\n          1               0.463641\nName: SEVERITYCODE, dtype: float64"
                    },
                    "execution_count": 60,
                    "metadata": {},
                    "output_type": "execute_result"
                }
            ],
            "source": "df.groupby(['ROADCOND'])['SEVERITYCODE'].value_counts(normalize = True)"
        },
        {
            "cell_type": "code",
            "execution_count": 61,
            "metadata": {},
            "outputs": [
                {
                    "data": {
                        "text/plain": "WEATHER  SEVERITYCODE\n0        1               0.615057\n         2               0.384943\n1        1               0.500000\n         2               0.500000\n2        2               0.527478\n         1               0.472522\n3        2               0.526761\n         1               0.473239\n4        1               0.714286\n         2               0.285714\n5        2               0.519484\n         1               0.480516\n6        2               0.750000\n         1               0.250000\n7        2               0.542946\n         1               0.457054\n8        2               0.538462\n         1               0.461538\n9        1               0.555556\n         2               0.444444\n10       1               0.639241\n         2               0.360759\n11       1               0.880893\n         2               0.119107\nName: SEVERITYCODE, dtype: float64"
                    },
                    "execution_count": 61,
                    "metadata": {},
                    "output_type": "execute_result"
                }
            ],
            "source": "df.groupby(['WEATHER'])['SEVERITYCODE'].value_counts(normalize = True)"
        },
        {
            "cell_type": "markdown",
            "metadata": {},
            "source": "#### The following table shows the detail of the encoding:\n| Code |WEATHER                | ROADCOND      | LIGHTCOND                |  \n|--- |---                      |---            |---                       |\n| 1  | Blowing Sand/Dirt       | Dry           | Dark - No Street Lights  |   \n| 2  | Clear                   | Ice           | Dark - Street Lights Off |   \n| 3  | Fog/Smog/Smoke          | Oil           | Dark - Street Lights On  |   \n| 4  | Other                   | Other         | Dark - Unknown Lighting  |   \n| 5  | Overcast                | Sand/Mud/Dirt | Dawn                     |   \n| 6  | Partly Cloudy           | Snow/Slush    | Daylight                 |  \n| 7  | Raining                 | Standing Water| Dusk                     |   \n| 8  | Severe Crosswind        | Unknown       | Other                    |   \n| 9  | Sleet/Hail/Freezing Rain| Wet           | Unknown                  |\n| 10 | Snowing                 | NA            | NA                       |\n| 11 | Unknown                 | NA            | NA                       |\n\n"
        },
        {
            "cell_type": "markdown",
            "metadata": {},
            "source": "#### Checking Missing Values:"
        },
        {
            "cell_type": "code",
            "execution_count": 62,
            "metadata": {},
            "outputs": [],
            "source": "df_missing = df.isna()\ndf_num_missing = df_missing.sum()"
        },
        {
            "cell_type": "code",
            "execution_count": 63,
            "metadata": {},
            "outputs": [
                {
                    "data": {
                        "text/plain": "SEVERITYCODE    0\nWEATHER         0\nROADCOND        0\nLIGHTCOND       0\ndtype: int64"
                    },
                    "execution_count": 63,
                    "metadata": {},
                    "output_type": "execute_result"
                }
            ],
            "source": "df_num_missing"
        },
        {
            "cell_type": "markdown",
            "metadata": {},
            "source": "#### Next Step: Modeling\nOur data is now ready to be fed into machine learning models. We will use the following models:\n\nA Decision Tree, which will provide a layout of all possible outcomes so we can fully analyze the concequences of a decision.\n\nLogistic Regression: We can use logistic regression because the data set provides two severity code outcomes, resulted in a binary data set, which is perfect for logistic regression."
        },
        {
            "cell_type": "markdown",
            "metadata": {},
            "source": "## Modeling"
        },
        {
            "cell_type": "markdown",
            "metadata": {},
            "source": "### K-Nearest Neighbors (KNN)"
        },
        {
            "cell_type": "code",
            "execution_count": 64,
            "metadata": {},
            "outputs": [
                {
                    "name": "stderr",
                    "output_type": "stream",
                    "text": "/opt/conda/envs/Python36/lib/python3.6/site-packages/sklearn/preprocessing/data.py:645: DataConversionWarning: Data with input dtype int8 were all converted to float64 by StandardScaler.\n  return self.partial_fit(X, y)\n/opt/conda/envs/Python36/lib/python3.6/site-packages/ipykernel/__main__.py:4: DataConversionWarning: Data with input dtype int8 were all converted to float64 by StandardScaler.\n"
                },
                {
                    "data": {
                        "text/plain": "25055     0\n65280     0\n86292     0\n155111    0\n64598     0\nName: SEVERITYCODE, dtype: int64"
                    },
                    "execution_count": 64,
                    "metadata": {},
                    "output_type": "execute_result"
                }
            ],
            "source": "X = df[['WEATHER','ROADCOND','LIGHTCOND']]\ny = df['SEVERITYCODE'].apply(lambda x:x-1)\n\nX= preprocessing.StandardScaler().fit(X).transform(X)\nX[0:5]\ny[0:5]"
        },
        {
            "cell_type": "code",
            "execution_count": 65,
            "metadata": {},
            "outputs": [],
            "source": "from sklearn.neighbors import KNeighborsClassifier\nfrom sklearn.model_selection import train_test_split\nfrom sklearn import metrics\nX_train, X_test, y_train, y_test = train_test_split( X, y, test_size=0.2, random_state=4)"
        },
        {
            "cell_type": "code",
            "execution_count": 66,
            "metadata": {},
            "outputs": [
                {
                    "data": {
                        "image/png": "[encoded data removed]",
                        "text/plain": "<Figure size 432x288 with 1 Axes>"
                    },
                    "metadata": {
                        "needs_background": "light"
                    },
                    "output_type": "display_data"
                }
            ],
            "source": "my_mean=np.zeros(50)\nmy_std = np.zeros(50)\nfor n in range(1,51):\n    knnmodel=KNeighborsClassifier(n_neighbors=n).fit(X_train,y_train)\n    y_pred=knnmodel.predict(X_test)\n    my_mean[n-1]=metrics.accuracy_score(y_test,y_pred)\n    my_std[n-1]=np.std(y_pred==y_test)/np.sqrt(y_pred.shape[0])\n    \nplt.plot(range(1,51),my_mean,'g')\nplt.fill_between(range(1,51),my_mean - 1 * my_std,my_mean + 1 * my_std, alpha=0.10)\nplt.legend(('Accuracy ', '+/- 3xstd'))\nplt.ylabel('Accuracy ')\nplt.xlabel('Number of Nabors (K)')\nplt.tight_layout()\nplt.show()"
        },
        {
            "cell_type": "code",
            "execution_count": 67,
            "metadata": {},
            "outputs": [
                {
                    "name": "stdout",
                    "output_type": "stream",
                    "text": "When k = 39 , the accuracy was the best: 0.5583433579652861\n"
                }
            ],
            "source": "print(\"When k =\", my_mean.argmax()+1, \", the accuracy was the best:\", my_mean.max(),)"
        },
        {
            "cell_type": "markdown",
            "metadata": {},
            "source": "### Decision Tree"
        },
        {
            "cell_type": "code",
            "execution_count": 68,
            "metadata": {},
            "outputs": [
                {
                    "data": {
                        "text/plain": "DecisionTreeClassifier(class_weight=None, criterion='entropy', max_depth=4,\n            max_features=None, max_leaf_nodes=None,\n            min_impurity_decrease=0.0, min_impurity_split=None,\n            min_samples_leaf=1, min_samples_split=2,\n            min_weight_fraction_leaf=0.0, presort=False, random_state=None,\n            splitter='best')"
                    },
                    "execution_count": 68,
                    "metadata": {},
                    "output_type": "execute_result"
                }
            ],
            "source": "from sklearn.tree import DecisionTreeClassifier\ndtmodel = DecisionTreeClassifier(criterion=\"entropy\", max_depth = 4)\ndtmodel.fit(X_train,y_train)"
        },
        {
            "cell_type": "code",
            "execution_count": 69,
            "metadata": {},
            "outputs": [
                {
                    "name": "stdout",
                    "output_type": "stream",
                    "text": "The accuracy for decision tree was: 0.5621670390101392\n"
                }
            ],
            "source": "y_pred=dtmodel.predict(X_test)\nTreeAccuracy=metrics.accuracy_score(y_test,y_pred)\nTreeAccuracy\nprint(\"The accuracy for decision tree was:\", TreeAccuracy)"
        },
        {
            "cell_type": "markdown",
            "metadata": {},
            "source": "### SVM"
        },
        {
            "cell_type": "code",
            "execution_count": 70,
            "metadata": {},
            "outputs": [
                {
                    "name": "stderr",
                    "output_type": "stream",
                    "text": "/opt/conda/envs/Python36/lib/python3.6/site-packages/sklearn/svm/base.py:196: FutureWarning: The default value of gamma will change from 'auto' to 'scale' in version 0.22 to account better for unscaled features. Set gamma explicitly to 'auto' or 'scale' to avoid this warning.\n  \"avoid this warning.\", FutureWarning)\n"
                },
                {
                    "data": {
                        "text/plain": "SVC(C=1.0, cache_size=200, class_weight=None, coef0=0.0,\n  decision_function_shape='ovr', degree=3, gamma='auto_deprecated',\n  kernel='rbf', max_iter=-1, probability=False, random_state=None,\n  shrinking=True, tol=0.001, verbose=False)"
                    },
                    "execution_count": 70,
                    "metadata": {},
                    "output_type": "execute_result"
                }
            ],
            "source": "from sklearn import svm\nsvmmodel=svm.SVC(kernel='rbf')\nsvmmodel.fit(X_train,y_train)"
        },
        {
            "cell_type": "code",
            "execution_count": 71,
            "metadata": {},
            "outputs": [
                {
                    "data": {
                        "text/plain": "array([1, 1, 0, ..., 1, 0, 1])"
                    },
                    "execution_count": 71,
                    "metadata": {},
                    "output_type": "execute_result"
                }
            ],
            "source": "y_pred=svmmodel.predict(X_test)\ny_pred"
        },
        {
            "cell_type": "code",
            "execution_count": 72,
            "metadata": {},
            "outputs": [
                {
                    "name": "stdout",
                    "output_type": "stream",
                    "text": "The accuracy for SVM was: 0.5705877298504898\n"
                }
            ],
            "source": "SVMAccuracy= metrics.accuracy_score(y_test,y_pred)\nprint(\"The accuracy for SVM was:\", SVMAccuracy)"
        },
        {
            "cell_type": "markdown",
            "metadata": {},
            "source": "### Logistic Regression"
        },
        {
            "cell_type": "code",
            "execution_count": 73,
            "metadata": {},
            "outputs": [],
            "source": "from sklearn.linear_model import LogisticRegression\nfrom sklearn.metrics import confusion_matrix\nlrmodel=LogisticRegression(C=0.01,solver='liblinear').fit(X_train,y_train)"
        },
        {
            "cell_type": "code",
            "execution_count": 74,
            "metadata": {},
            "outputs": [
                {
                    "name": "stdout",
                    "output_type": "stream",
                    "text": "[0 1 0 ... 1 1 1]\n[[0.57030998 0.42969002]\n [0.47122229 0.52877771]\n [0.67060349 0.32939651]\n ...\n [0.47122229 0.52877771]\n [0.46566232 0.53433768]\n [0.47122229 0.52877771]]\n"
                }
            ],
            "source": "y_pred=lrmodel.predict(X_test)\nprint(y_pred)\nprint(lrmodel.predict_proba(X_test))"
        },
        {
            "cell_type": "code",
            "execution_count": 75,
            "metadata": {},
            "outputs": [
                {
                    "name": "stdout",
                    "output_type": "stream",
                    "text": "The accuracy for logistic regressionn was: 0.5294294552328579\n"
                }
            ],
            "source": "LRAccuracy = metrics.accuracy_score(y_test,y_pred)\nprint(\"The accuracy for logistic regressionn was:\", LRAccuracy)"
        },
        {
            "cell_type": "markdown",
            "metadata": {},
            "source": "## Result "
        },
        {
            "cell_type": "code",
            "execution_count": 76,
            "metadata": {},
            "outputs": [],
            "source": "from sklearn.metrics import jaccard_similarity_score\nfrom sklearn.metrics import f1_score\nfrom sklearn.metrics import log_loss"
        },
        {
            "cell_type": "code",
            "execution_count": 77,
            "metadata": {},
            "outputs": [
                {
                    "name": "stdout",
                    "output_type": "stream",
                    "text": "Train set KNN Accuracy:  0.5476644669003918\nTest set KNN Accuracy:  0.5527152431689294\n"
                }
            ],
            "source": "# knn \nyhat = knnmodel.predict(X_test)\nyhat\nprint(\"Train set KNN Accuracy: \", metrics.accuracy_score(y, knnmodel.predict(X)))\nprint(\"Test set KNN Accuracy: \", metrics.accuracy_score(y_test, yhat))\nknn_jaccard = jaccard_similarity_score(y_test, yhat)\nknn_f1_score = f1_score(y_test, yhat, average='weighted')"
        },
        {
            "cell_type": "code",
            "execution_count": 78,
            "metadata": {},
            "outputs": [
                {
                    "name": "stdout",
                    "output_type": "stream",
                    "text": "Train set Decission Tree Accuracy:  0.5596858458788754\nTest set Decission Tree Accuracy:  0.5621670390101392\n"
                }
            ],
            "source": "#decision tre\nyhat = dtmodel.predict(X_test)\nyhat\nprint(\"Train set Decission Tree Accuracy: \", metrics.accuracy_score(y, dtmodel.predict(X)))\nprint(\"Test set Decission Tree Accuracy: \", metrics.accuracy_score(y_test, yhat))\ntree_jaccard = jaccard_similarity_score(y_test, yhat)\ntree_f1_score = f1_score(y_test, yhat, average='weighted')"
        },
        {
            "cell_type": "code",
            "execution_count": 79,
            "metadata": {},
            "outputs": [
                {
                    "name": "stdout",
                    "output_type": "stream",
                    "text": "Train set SVM Accuracy:  0.5646439128342614\nTest set SVM Accuracy:  0.5705877298504898\n"
                }
            ],
            "source": "# SVM \nyhat = svmmodel.predict(X_test)\nyhat\nprint(\"Train set SVM Accuracy: \", metrics.accuracy_score(y, svmmodel.predict(X)))\nprint(\"Test set SVM Accuracy: \", metrics.accuracy_score(y_test, yhat))\nsvm_jaccard = jaccard_similarity_score(y_test, yhat)\nsvm_f1_score = f1_score(y_test, yhat, average='weighted')"
        },
        {
            "cell_type": "code",
            "execution_count": 80,
            "metadata": {},
            "outputs": [
                {
                    "name": "stdout",
                    "output_type": "stream",
                    "text": "Train set Logistic regression Accuracy:  0.5271705506289956\nTest set Logistic regression Accuracy:  0.5705877298504898\n"
                }
            ],
            "source": "# Logistic regression \nyhat_proba = lrmodel.predict_proba(X_test)\nyhat\nprint(\"Train set Logistic regression Accuracy: \", metrics.accuracy_score(y, lrmodel.predict(X)))\nprint(\"Test set Logistic regression Accuracy: \", metrics.accuracy_score(y_test, yhat))\nlr_jaccard = jaccard_similarity_score(y_test, yhat)\nlr_f1_score = f1_score(y_test, yhat, average='weighted')\nlr_log_loss = log_loss(y_test, yhat_proba)"
        },
        {
            "cell_type": "code",
            "execution_count": 81,
            "metadata": {},
            "outputs": [
                {
                    "data": {
                        "text/html": "<div>\n<style scoped>\n    .dataframe tbody tr th:only-of-type {\n        vertical-align: middle;\n    }\n\n    .dataframe tbody tr th {\n        vertical-align: top;\n    }\n\n    .dataframe thead th {\n        text-align: right;\n    }\n</style>\n<table border=\"1\" class=\"dataframe\">\n  <thead>\n    <tr style=\"text-align: right;\">\n      <th></th>\n      <th></th>\n      <th></th>\n      <th></th>\n    </tr>\n    <tr>\n      <th>Algorithm</th>\n      <th>Jaccard</th>\n      <th>F1-score</th>\n      <th>LogLoss</th>\n    </tr>\n  </thead>\n  <tbody>\n    <tr>\n      <th>KNN</th>\n      <th>0.5527152431689294</th>\n      <th>0.5518364129499082</th>\n      <th>nan</th>\n    </tr>\n    <tr>\n      <th>Decision Tree</th>\n      <th>0.5621670390101392</th>\n      <th>0.4808694306282786</th>\n      <th>nan</th>\n    </tr>\n    <tr>\n      <th>SVM</th>\n      <th>0.5705877298504898</th>\n      <th>0.5469157414553079</th>\n      <th>nan</th>\n    </tr>\n    <tr>\n      <th>LogisticRegression</th>\n      <th>0.5705877298504898</th>\n      <th>0.5469157414553079</th>\n      <th>0.6844125103805109</th>\n    </tr>\n  </tbody>\n</table>\n</div>",
                        "text/plain": "Empty DataFrame\nColumns: []\nIndex: [(KNN, 0.5527152431689294, 0.5518364129499082, nan), (Decision Tree, 0.5621670390101392, 0.4808694306282786, nan), (SVM, 0.5705877298504898, 0.5469157414553079, nan), (LogisticRegression, 0.5705877298504898, 0.5469157414553079, 0.6844125103805109)]"
                    },
                    "execution_count": 81,
                    "metadata": {},
                    "output_type": "execute_result"
                }
            ],
            "source": "report = pd.DataFrame(data=np.array([[\"KNN\", knn_jaccard, knn_f1_score, np.nan],\n                                     [\"Decision Tree\", tree_jaccard, tree_f1_score, np.nan],\n                                     [\"SVM\", svm_jaccard, svm_f1_score, np.nan],\n                                    [\"LogisticRegression\", lr_jaccard, lr_f1_score, lr_log_loss]]), \n                      columns=[\"Algorithm\", \"Jaccard\", \"F1-score\", \"LogLoss\"])\nreport = report.set_index([\"Algorithm\", \"Jaccard\", \"F1-score\", \"LogLoss\"])\nreport"
        },
        {
            "cell_type": "markdown",
            "metadata": {},
            "source": "## Discussion"
        },
        {
            "cell_type": "markdown",
            "metadata": {},
            "source": "From the previous models and results, we can see that among all of the machine algroithms we have tested, K-Nearest-Neighbors is the best algorithm to predict the severity of accidents given the conditions."
        },
        {
            "cell_type": "markdown",
            "metadata": {},
            "source": "## Conclusion"
        },
        {
            "cell_type": "markdown",
            "metadata": {},
            "source": "We can conclude that particular conditions have a some impact on whether or not travel could result in property damage or injury."
        },
        {
            "cell_type": "code",
            "execution_count": null,
            "metadata": {},
            "outputs": [],
            "source": ""
        }
    ],
    "metadata": {
        "kernelspec": {
            "display_name": "Python 3.6",
            "language": "python",
            "name": "python3"
        },
        "language_info": {
            "codemirror_mode": {
                "name": "ipython",
                "version": 3
            },
            "file_extension": ".py",
            "mimetype": "text/x-python",
            "name": "python",
            "nbconvert_exporter": "python",
            "pygments_lexer": "ipython3",
            "version": "3.6.9"
        }
    },
    "nbformat": 4,
    "nbformat_minor": 1
}