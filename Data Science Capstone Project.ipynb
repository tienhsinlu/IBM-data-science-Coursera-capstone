{
    "cells": [
        {
            "cell_type": "markdown",
            "metadata": {
                "collapsed": true
            },
            "source": "# IBM Coursera Data Science Project"
        },
        {
            "cell_type": "markdown",
            "metadata": {},
            "source": "This Notebook will be mainly used for the Capstone Project for the IBM Data Science Specialization via Coursera."
        },
        {
            "cell_type": "code",
            "execution_count": 1,
            "metadata": {},
            "outputs": [],
            "source": "import numpy as np\nimport pandas as pd"
        },
        {
            "cell_type": "code",
            "execution_count": 2,
            "metadata": {},
            "outputs": [
                {
                    "name": "stdout",
                    "output_type": "stream",
                    "text": "Hello Capstone Project Course!\n"
                }
            ],
            "source": "print(\"Hello Capstone Project Course!\")"
        },
        {
            "cell_type": "code",
            "execution_count": 3,
            "metadata": {},
            "outputs": [],
            "source": "import itertools\nimport matplotlib.pyplot as plt\nfrom matplotlib.ticker import NullFormatter\nimport matplotlib.ticker as ticker\nfrom sklearn import preprocessing\n%matplotlib inline"
        },
        {
            "cell_type": "markdown",
            "metadata": {},
            "source": "### About dataset"
        },
        {
            "cell_type": "markdown",
            "metadata": {},
            "source": "This dataset is about Collisions, provided by SPD and recorded by Traffic Records. The dataset includes all types of collisions. Collision will display at the intersection or mid-block of a segment from 2004 to present, updated weekly."
        },
        {
            "cell_type": "markdown",
            "metadata": {},
            "source": "### Load Dataset from CSV file"
        },
        {
            "cell_type": "code",
            "execution_count": 4,
            "metadata": {},
            "outputs": [
                {
                    "name": "stderr",
                    "output_type": "stream",
                    "text": "/opt/conda/envs/Python36/lib/python3.6/site-packages/IPython/core/interactiveshell.py:3020: DtypeWarning: Columns (33) have mixed types. Specify dtype option on import or set low_memory=False.\n  interactivity=interactivity, compiler=compiler, result=result)\n"
                },
                {
                    "data": {
                        "text/html": "<div>\n<style scoped>\n    .dataframe tbody tr th:only-of-type {\n        vertical-align: middle;\n    }\n\n    .dataframe tbody tr th {\n        vertical-align: top;\n    }\n\n    .dataframe thead th {\n        text-align: right;\n    }\n</style>\n<table border=\"1\" class=\"dataframe\">\n  <thead>\n    <tr style=\"text-align: right;\">\n      <th></th>\n      <th>SEVERITYCODE</th>\n      <th>X</th>\n      <th>Y</th>\n      <th>OBJECTID</th>\n      <th>INCKEY</th>\n      <th>COLDETKEY</th>\n      <th>REPORTNO</th>\n      <th>STATUS</th>\n      <th>ADDRTYPE</th>\n      <th>INTKEY</th>\n      <th>...</th>\n      <th>ROADCOND</th>\n      <th>LIGHTCOND</th>\n      <th>PEDROWNOTGRNT</th>\n      <th>SDOTCOLNUM</th>\n      <th>SPEEDING</th>\n      <th>ST_COLCODE</th>\n      <th>ST_COLDESC</th>\n      <th>SEGLANEKEY</th>\n      <th>CROSSWALKKEY</th>\n      <th>HITPARKEDCAR</th>\n    </tr>\n  </thead>\n  <tbody>\n    <tr>\n      <th>0</th>\n      <td>2</td>\n      <td>-122.323148</td>\n      <td>47.703140</td>\n      <td>1</td>\n      <td>1307</td>\n      <td>1307</td>\n      <td>3502005</td>\n      <td>Matched</td>\n      <td>Intersection</td>\n      <td>37475.0</td>\n      <td>...</td>\n      <td>Wet</td>\n      <td>Daylight</td>\n      <td>NaN</td>\n      <td>NaN</td>\n      <td>NaN</td>\n      <td>10</td>\n      <td>Entering at angle</td>\n      <td>0</td>\n      <td>0</td>\n      <td>N</td>\n    </tr>\n    <tr>\n      <th>1</th>\n      <td>1</td>\n      <td>-122.347294</td>\n      <td>47.647172</td>\n      <td>2</td>\n      <td>52200</td>\n      <td>52200</td>\n      <td>2607959</td>\n      <td>Matched</td>\n      <td>Block</td>\n      <td>NaN</td>\n      <td>...</td>\n      <td>Wet</td>\n      <td>Dark - Street Lights On</td>\n      <td>NaN</td>\n      <td>6354039.0</td>\n      <td>NaN</td>\n      <td>11</td>\n      <td>From same direction - both going straight - bo...</td>\n      <td>0</td>\n      <td>0</td>\n      <td>N</td>\n    </tr>\n    <tr>\n      <th>2</th>\n      <td>1</td>\n      <td>-122.334540</td>\n      <td>47.607871</td>\n      <td>3</td>\n      <td>26700</td>\n      <td>26700</td>\n      <td>1482393</td>\n      <td>Matched</td>\n      <td>Block</td>\n      <td>NaN</td>\n      <td>...</td>\n      <td>Dry</td>\n      <td>Daylight</td>\n      <td>NaN</td>\n      <td>4323031.0</td>\n      <td>NaN</td>\n      <td>32</td>\n      <td>One parked--one moving</td>\n      <td>0</td>\n      <td>0</td>\n      <td>N</td>\n    </tr>\n    <tr>\n      <th>3</th>\n      <td>1</td>\n      <td>-122.334803</td>\n      <td>47.604803</td>\n      <td>4</td>\n      <td>1144</td>\n      <td>1144</td>\n      <td>3503937</td>\n      <td>Matched</td>\n      <td>Block</td>\n      <td>NaN</td>\n      <td>...</td>\n      <td>Dry</td>\n      <td>Daylight</td>\n      <td>NaN</td>\n      <td>NaN</td>\n      <td>NaN</td>\n      <td>23</td>\n      <td>From same direction - all others</td>\n      <td>0</td>\n      <td>0</td>\n      <td>N</td>\n    </tr>\n    <tr>\n      <th>4</th>\n      <td>2</td>\n      <td>-122.306426</td>\n      <td>47.545739</td>\n      <td>5</td>\n      <td>17700</td>\n      <td>17700</td>\n      <td>1807429</td>\n      <td>Matched</td>\n      <td>Intersection</td>\n      <td>34387.0</td>\n      <td>...</td>\n      <td>Wet</td>\n      <td>Daylight</td>\n      <td>NaN</td>\n      <td>4028032.0</td>\n      <td>NaN</td>\n      <td>10</td>\n      <td>Entering at angle</td>\n      <td>0</td>\n      <td>0</td>\n      <td>N</td>\n    </tr>\n  </tbody>\n</table>\n<p>5 rows \u00d7 38 columns</p>\n</div>",
                        "text/plain": "   SEVERITYCODE           X          Y  OBJECTID  INCKEY  COLDETKEY REPORTNO  \\\n0             2 -122.323148  47.703140         1    1307       1307  3502005   \n1             1 -122.347294  47.647172         2   52200      52200  2607959   \n2             1 -122.334540  47.607871         3   26700      26700  1482393   \n3             1 -122.334803  47.604803         4    1144       1144  3503937   \n4             2 -122.306426  47.545739         5   17700      17700  1807429   \n\n    STATUS      ADDRTYPE   INTKEY  ... ROADCOND                LIGHTCOND  \\\n0  Matched  Intersection  37475.0  ...      Wet                 Daylight   \n1  Matched         Block      NaN  ...      Wet  Dark - Street Lights On   \n2  Matched         Block      NaN  ...      Dry                 Daylight   \n3  Matched         Block      NaN  ...      Dry                 Daylight   \n4  Matched  Intersection  34387.0  ...      Wet                 Daylight   \n\n  PEDROWNOTGRNT  SDOTCOLNUM SPEEDING ST_COLCODE  \\\n0           NaN         NaN      NaN         10   \n1           NaN   6354039.0      NaN         11   \n2           NaN   4323031.0      NaN         32   \n3           NaN         NaN      NaN         23   \n4           NaN   4028032.0      NaN         10   \n\n                                          ST_COLDESC  SEGLANEKEY  \\\n0                                  Entering at angle           0   \n1  From same direction - both going straight - bo...           0   \n2                             One parked--one moving           0   \n3                   From same direction - all others           0   \n4                                  Entering at angle           0   \n\n   CROSSWALKKEY  HITPARKEDCAR  \n0             0             N  \n1             0             N  \n2             0             N  \n3             0             N  \n4             0             N  \n\n[5 rows x 38 columns]"
                    },
                    "execution_count": 4,
                    "metadata": {},
                    "output_type": "execute_result"
                }
            ],
            "source": "# The code was removed by Watson Studio for sharing."
        },
        {
            "cell_type": "code",
            "execution_count": 5,
            "metadata": {},
            "outputs": [
                {
                    "data": {
                        "text/plain": "(194673, 38)"
                    },
                    "execution_count": 5,
                    "metadata": {},
                    "output_type": "execute_result"
                }
            ],
            "source": "df.shape"
        },
        {
            "cell_type": "markdown",
            "metadata": {},
            "source": "## Introduction: Business Understanding"
        },
        {
            "cell_type": "markdown",
            "metadata": {},
            "source": "In order to reduce the frequency of car accidents/collisions in a community, this project is developed to predict the severity of an accident given the current weather, road and visibility conditions. This model will be able to predict the severity of accidents/ collisions and alert the drivers to be more careful if the conditions are critical."
        },
        {
            "cell_type": "markdown",
            "metadata": {},
            "source": "## Data Understanding and Data Preparation"
        },
        {
            "cell_type": "markdown",
            "metadata": {},
            "source": "Our target variable will be 'SEVERITYCODE', which is used to measure the severity of an accident. Attributes that will be used to measure the severity of an accident are 'WEATHER', 'ROADCOND', and 'LIGHTCOND', which represent the current weather, road condition, and light condition, respectively."
        },
        {
            "cell_type": "markdown",
            "metadata": {},
            "source": "The raw dataset is not ideal for data analysis and the development of the desired algrorithm. First of all, there are many columns that we will not use for this model. Also, most of the features are of type object, when they should be numerical type. Now it's time to do some extracting and converting to the dataset."
        },
        {
            "cell_type": "markdown",
            "metadata": {},
            "source": "### Data extracting and converting\n#### Dropping unnecessary columns/attributes"
        },
        {
            "cell_type": "code",
            "execution_count": 6,
            "metadata": {},
            "outputs": [
                {
                    "data": {
                        "text/html": "<div>\n<style scoped>\n    .dataframe tbody tr th:only-of-type {\n        vertical-align: middle;\n    }\n\n    .dataframe tbody tr th {\n        vertical-align: top;\n    }\n\n    .dataframe thead th {\n        text-align: right;\n    }\n</style>\n<table border=\"1\" class=\"dataframe\">\n  <thead>\n    <tr style=\"text-align: right;\">\n      <th></th>\n      <th>SEVERITYCODE</th>\n      <th>WEATHER</th>\n      <th>ROADCOND</th>\n      <th>LIGHTCOND</th>\n    </tr>\n  </thead>\n  <tbody>\n    <tr>\n      <th>0</th>\n      <td>2</td>\n      <td>Overcast</td>\n      <td>Wet</td>\n      <td>Daylight</td>\n    </tr>\n    <tr>\n      <th>1</th>\n      <td>1</td>\n      <td>Raining</td>\n      <td>Wet</td>\n      <td>Dark - Street Lights On</td>\n    </tr>\n    <tr>\n      <th>2</th>\n      <td>1</td>\n      <td>Overcast</td>\n      <td>Dry</td>\n      <td>Daylight</td>\n    </tr>\n    <tr>\n      <th>3</th>\n      <td>1</td>\n      <td>Clear</td>\n      <td>Dry</td>\n      <td>Daylight</td>\n    </tr>\n    <tr>\n      <th>4</th>\n      <td>2</td>\n      <td>Raining</td>\n      <td>Wet</td>\n      <td>Daylight</td>\n    </tr>\n  </tbody>\n</table>\n</div>",
                        "text/plain": "   SEVERITYCODE   WEATHER ROADCOND                LIGHTCOND\n0             2  Overcast      Wet                 Daylight\n1             1   Raining      Wet  Dark - Street Lights On\n2             1  Overcast      Dry                 Daylight\n3             1     Clear      Dry                 Daylight\n4             2   Raining      Wet                 Daylight"
                    },
                    "execution_count": 6,
                    "metadata": {},
                    "output_type": "execute_result"
                }
            ],
            "source": "df = df[['SEVERITYCODE','WEATHER','ROADCOND','LIGHTCOND']]\ndf.head()"
        },
        {
            "cell_type": "markdown",
            "metadata": {},
            "source": "#### Checking the data types"
        },
        {
            "cell_type": "code",
            "execution_count": 7,
            "metadata": {},
            "outputs": [
                {
                    "data": {
                        "text/plain": "SEVERITYCODE     int64\nWEATHER         object\nROADCOND        object\nLIGHTCOND       object\ndtype: object"
                    },
                    "execution_count": 7,
                    "metadata": {},
                    "output_type": "execute_result"
                }
            ],
            "source": "df.dtypes"
        },
        {
            "cell_type": "code",
            "execution_count": 8,
            "metadata": {},
            "outputs": [
                {
                    "data": {
                        "text/plain": "1    136485\n2     58188\nName: SEVERITYCODE, dtype: int64"
                    },
                    "execution_count": 8,
                    "metadata": {},
                    "output_type": "execute_result"
                }
            ],
            "source": "df['SEVERITYCODE'].value_counts()"
        },
        {
            "cell_type": "markdown",
            "metadata": {},
            "source": "#### Balancing data:\nWe observed that there is a lot more rows that have SEVERITYCODE as \"1\" than that as \"2\", hence, we need to balance the data in order to have unbiased results."
        },
        {
            "cell_type": "code",
            "execution_count": 9,
            "metadata": {},
            "outputs": [
                {
                    "data": {
                        "text/plain": "2    58188\n1    58188\nName: SEVERITYCODE, dtype: int64"
                    },
                    "execution_count": 9,
                    "metadata": {},
                    "output_type": "execute_result"
                }
            ],
            "source": "from sklearn.utils import resample\ndf_majority = df[df.SEVERITYCODE==1]\ndf_minority = df[df.SEVERITYCODE==2]\ndf_majority_downsampled = resample(df_majority, \n                                 replace=False,    # sample without replacement\n                                 n_samples=58188,     # to match minority class\n                                 random_state=123)\ndf_downsampled = pd.concat([df_majority_downsampled, df_minority])\ndf_downsampled['SEVERITYCODE'].value_counts()\n"
        },
        {
            "cell_type": "code",
            "execution_count": 10,
            "metadata": {},
            "outputs": [
                {
                    "data": {
                        "text/html": "<div>\n<style scoped>\n    .dataframe tbody tr th:only-of-type {\n        vertical-align: middle;\n    }\n\n    .dataframe tbody tr th {\n        vertical-align: top;\n    }\n\n    .dataframe thead th {\n        text-align: right;\n    }\n</style>\n<table border=\"1\" class=\"dataframe\">\n  <thead>\n    <tr style=\"text-align: right;\">\n      <th></th>\n      <th>SEVERITYCODE</th>\n      <th>WEATHER</th>\n      <th>ROADCOND</th>\n      <th>LIGHTCOND</th>\n    </tr>\n  </thead>\n  <tbody>\n    <tr>\n      <th>25055</th>\n      <td>1</td>\n      <td>Raining</td>\n      <td>Wet</td>\n      <td>Dark - Street Lights On</td>\n    </tr>\n    <tr>\n      <th>65280</th>\n      <td>1</td>\n      <td>Clear</td>\n      <td>Dry</td>\n      <td>Daylight</td>\n    </tr>\n    <tr>\n      <th>86292</th>\n      <td>1</td>\n      <td>Unknown</td>\n      <td>Unknown</td>\n      <td>Unknown</td>\n    </tr>\n    <tr>\n      <th>155111</th>\n      <td>1</td>\n      <td>Clear</td>\n      <td>Dry</td>\n      <td>Daylight</td>\n    </tr>\n    <tr>\n      <th>64598</th>\n      <td>1</td>\n      <td>Clear</td>\n      <td>Dry</td>\n      <td>Daylight</td>\n    </tr>\n  </tbody>\n</table>\n</div>",
                        "text/plain": "        SEVERITYCODE  WEATHER ROADCOND                LIGHTCOND\n25055              1  Raining      Wet  Dark - Street Lights On\n65280              1    Clear      Dry                 Daylight\n86292              1  Unknown  Unknown                  Unknown\n155111             1    Clear      Dry                 Daylight\n64598              1    Clear      Dry                 Daylight"
                    },
                    "execution_count": 10,
                    "metadata": {},
                    "output_type": "execute_result"
                }
            ],
            "source": "df = df_downsampled\ndf.head()"
        },
        {
            "cell_type": "markdown",
            "metadata": {},
            "source": "#### Converting data:\nThe next step is to convert the categorical data to numerical value data. Let's first check out how each each attribute affects the severity code under each condition:"
        },
        {
            "cell_type": "code",
            "execution_count": 22,
            "metadata": {},
            "outputs": [
                {
                    "data": {
                        "text/plain": "WEATHER  SEVERITYCODE\n0        1               0.615057\n         2               0.384943\n1        1               0.500000\n         2               0.500000\n2        2               0.527478\n         1               0.472522\n3        2               0.526761\n         1               0.473239\n4        1               0.714286\n         2               0.285714\n5        2               0.519484\n         1               0.480516\n6        2               0.750000\n         1               0.250000\n7        2               0.542946\n         1               0.457054\n8        2               0.538462\n         1               0.461538\n9        1               0.555556\n         2               0.444444\n10       1               0.639241\n         2               0.360759\n11       1               0.880893\n         2               0.119107\nName: SEVERITYCODE, dtype: float64"
                    },
                    "execution_count": 22,
                    "metadata": {},
                    "output_type": "execute_result"
                }
            ],
            "source": "df.groupby(['WEATHER'])['SEVERITYCODE'].value_counts(normalize = True)"
        },
        {
            "cell_type": "code",
            "execution_count": 12,
            "metadata": {},
            "outputs": [
                {
                    "data": {
                        "text/plain": "ROADCOND        SEVERITYCODE\nDry             2               0.527158\n                1               0.472842\nIce             1               0.597345\n                2               0.402655\nOil             2               0.615385\n                1               0.384615\nOther           2               0.518072\n                1               0.481928\nSand/Mud/Dirt   1               0.510638\n                2               0.489362\nSnow/Slush      1               0.683712\n                2               0.316288\nStanding Water  2               0.526316\n                1               0.473684\nUnknown         1               0.889950\n                2               0.110050\nWet             2               0.536359\n                1               0.463641\nName: SEVERITYCODE, dtype: float64"
                    },
                    "execution_count": 12,
                    "metadata": {},
                    "output_type": "execute_result"
                }
            ],
            "source": "df.groupby(['ROADCOND'])['SEVERITYCODE'].value_counts(normalize = True)"
        },
        {
            "cell_type": "code",
            "execution_count": 13,
            "metadata": {
                "scrolled": true
            },
            "outputs": [
                {
                    "data": {
                        "text/plain": "LIGHTCOND                 SEVERITYCODE\nDark - No Street Lights   1               0.614319\n                          2               0.385681\nDark - Street Lights Off  1               0.550498\n                          2               0.449502\nDark - Street Lights On   1               0.503141\n                          2               0.496859\nDark - Unknown Lighting   2               0.571429\n                          1               0.428571\nDawn                      2               0.536808\n                          1               0.463192\nDaylight                  2               0.539054\n                          1               0.460946\nDusk                      2               0.541203\n                          1               0.458797\nOther                     1               0.590551\n                          2               0.409449\nUnknown                   1               0.900198\n                          2               0.099802\nName: SEVERITYCODE, dtype: float64"
                    },
                    "execution_count": 13,
                    "metadata": {},
                    "output_type": "execute_result"
                }
            ],
            "source": "df.groupby(['LIGHTCOND'])['SEVERITYCODE'].value_counts(normalize = True)"
        },
        {
            "cell_type": "markdown",
            "metadata": {},
            "source": "#### Converting"
        },
        {
            "cell_type": "code",
            "execution_count": 18,
            "metadata": {},
            "outputs": [
                {
                    "data": {
                        "text/html": "<div>\n<style scoped>\n    .dataframe tbody tr th:only-of-type {\n        vertical-align: middle;\n    }\n\n    .dataframe tbody tr th {\n        vertical-align: top;\n    }\n\n    .dataframe thead th {\n        text-align: right;\n    }\n</style>\n<table border=\"1\" class=\"dataframe\">\n  <thead>\n    <tr style=\"text-align: right;\">\n      <th></th>\n      <th>SEVERITYCODE</th>\n      <th>WEATHER</th>\n      <th>ROADCOND</th>\n      <th>LIGHTCOND</th>\n    </tr>\n  </thead>\n  <tbody>\n    <tr>\n      <th>25055</th>\n      <td>1</td>\n      <td>7</td>\n      <td>9</td>\n      <td>3</td>\n    </tr>\n    <tr>\n      <th>65280</th>\n      <td>1</td>\n      <td>2</td>\n      <td>1</td>\n      <td>6</td>\n    </tr>\n    <tr>\n      <th>86292</th>\n      <td>1</td>\n      <td>11</td>\n      <td>8</td>\n      <td>9</td>\n    </tr>\n    <tr>\n      <th>155111</th>\n      <td>1</td>\n      <td>2</td>\n      <td>1</td>\n      <td>6</td>\n    </tr>\n    <tr>\n      <th>64598</th>\n      <td>1</td>\n      <td>2</td>\n      <td>1</td>\n      <td>6</td>\n    </tr>\n  </tbody>\n</table>\n</div>",
                        "text/plain": "        SEVERITYCODE  WEATHER  ROADCOND  LIGHTCOND\n25055              1        7         9          3\n65280              1        2         1          6\n86292              1       11         8          9\n155111             1        2         1          6\n64598              1        2         1          6"
                    },
                    "execution_count": 18,
                    "metadata": {},
                    "output_type": "execute_result"
                }
            ],
            "source": "df.WEATHER = pd.Categorical(df.WEATHER).codes\ndf.ROADCOND = pd.Categorical(df.ROADCOND).codes\ndf.LIGHTCOND = pd.Categorical(df.LIGHTCOND).codes\ndf.head()"
        },
        {
            "cell_type": "code",
            "execution_count": 19,
            "metadata": {},
            "outputs": [
                {
                    "data": {
                        "text/plain": "LIGHTCOND  SEVERITYCODE\n0          1               0.617275\n           2               0.382725\n1          1               0.614319\n           2               0.385681\n2          1               0.550498\n           2               0.449502\n3          1               0.503141\n           2               0.496859\n4          2               0.571429\n           1               0.428571\n5          2               0.536808\n           1               0.463192\n6          2               0.539054\n           1               0.460946\n7          2               0.541203\n           1               0.458797\n8          1               0.590551\n           2               0.409449\n9          1               0.900198\n           2               0.099802\nName: SEVERITYCODE, dtype: float64"
                    },
                    "execution_count": 19,
                    "metadata": {},
                    "output_type": "execute_result"
                }
            ],
            "source": "df.groupby(['LIGHTCOND'])['SEVERITYCODE'].value_counts(normalize = True)"
        },
        {
            "cell_type": "code",
            "execution_count": 20,
            "metadata": {
                "scrolled": true
            },
            "outputs": [
                {
                    "data": {
                        "text/plain": "ROADCOND  SEVERITYCODE\n0         1               0.616498\n          2               0.383502\n1         2               0.527158\n          1               0.472842\n2         1               0.597345\n          2               0.402655\n3         2               0.615385\n          1               0.384615\n4         2               0.518072\n          1               0.481928\n5         1               0.510638\n          2               0.489362\n6         1               0.683712\n          2               0.316288\n7         2               0.526316\n          1               0.473684\n8         1               0.889950\n          2               0.110050\n9         2               0.536359\n          1               0.463641\nName: SEVERITYCODE, dtype: float64"
                    },
                    "execution_count": 20,
                    "metadata": {},
                    "output_type": "execute_result"
                }
            ],
            "source": "df.groupby(['ROADCOND'])['SEVERITYCODE'].value_counts(normalize = True)"
        },
        {
            "cell_type": "code",
            "execution_count": 21,
            "metadata": {},
            "outputs": [
                {
                    "data": {
                        "text/plain": "WEATHER  SEVERITYCODE\n0        1               0.615057\n         2               0.384943\n1        1               0.500000\n         2               0.500000\n2        2               0.527478\n         1               0.472522\n3        2               0.526761\n         1               0.473239\n4        1               0.714286\n         2               0.285714\n5        2               0.519484\n         1               0.480516\n6        2               0.750000\n         1               0.250000\n7        2               0.542946\n         1               0.457054\n8        2               0.538462\n         1               0.461538\n9        1               0.555556\n         2               0.444444\n10       1               0.639241\n         2               0.360759\n11       1               0.880893\n         2               0.119107\nName: SEVERITYCODE, dtype: float64"
                    },
                    "execution_count": 21,
                    "metadata": {},
                    "output_type": "execute_result"
                }
            ],
            "source": "df.groupby(['WEATHER'])['SEVERITYCODE'].value_counts(normalize = True)"
        },
        {
            "cell_type": "markdown",
            "metadata": {},
            "source": "#### The following table shows the detail of the encoding:\n| Code |WEATHER                | ROADCOND      | LIGHTCOND                |  \n|--- |---                      |---            |---                       |\n| 1  | Blowing Sand/Dirt       | Dry           | Dark - No Street Lights  |   \n| 2  | Clear                   | Ice           | Dark - Street Lights Off |   \n| 3  | Fog/Smog/Smoke          | Oil           | Dark - Street Lights On  |   \n| 4  | Other                   | Other         | Dark - Unknown Lighting  |   \n| 5  | Overcast                | Sand/Mud/Dirt | Dawn                     |   \n| 6  | Partly Cloudy           | Snow/Slush    | Daylight                 |  \n| 7  | Raining                 | Standing Water| Dusk                     |   \n| 8  | Severe Crosswind        | Unknown       | Other                    |   \n| 9  | Sleet/Hail/Freezing Rain| Wet           | Unknown                  |\n| 10 | Snowing                 | NA            | NA                       |\n| 11 | Unknown                 | NA            | NA                       |\n\n"
        },
        {
            "cell_type": "markdown",
            "metadata": {},
            "source": "#### Checking Missing Values:"
        },
        {
            "cell_type": "code",
            "execution_count": 80,
            "metadata": {},
            "outputs": [],
            "source": "df_missing = df.isna()\ndf_num_missing = df_missing.sum()"
        },
        {
            "cell_type": "code",
            "execution_count": 81,
            "metadata": {},
            "outputs": [
                {
                    "data": {
                        "text/plain": "SEVERITYCODE    0\nWEATHER         0\nROADCOND        0\nLIGHTCOND       0\ndtype: int64"
                    },
                    "execution_count": 81,
                    "metadata": {},
                    "output_type": "execute_result"
                }
            ],
            "source": "df_num_missing"
        },
        {
            "cell_type": "markdown",
            "metadata": {},
            "source": "#### Next Step: Modeling\nOur data is now ready to be fed into machine learning models. We will use the following models:\n\nK-Nearest Neighbor (KNN), which help us predict the severity code of an outcome by finding the most similar to data point within k distance.\n\nA Decision Tree, which will provide a layout of all possible outcomes so we can fully analyze the concequences of a decision.\n\nLogistic Regression: We can use logistic regression because the data set provides two severity code outcomes, resulted in a binary data set, which is perfect for logistic regression."
        },
        {
            "cell_type": "markdown",
            "metadata": {},
            "source": "## Modeling"
        },
        {
            "cell_type": "code",
            "execution_count": null,
            "metadata": {},
            "outputs": [],
            "source": ""
        }
    ],
    "metadata": {
        "kernelspec": {
            "display_name": "Python 3.6",
            "language": "python",
            "name": "python3"
        },
        "language_info": {
            "codemirror_mode": {
                "name": "ipython",
                "version": 3
            },
            "file_extension": ".py",
            "mimetype": "text/x-python",
            "name": "python",
            "nbconvert_exporter": "python",
            "pygments_lexer": "ipython3",
            "version": "3.6.9"
        }
    },
    "nbformat": 4,
    "nbformat_minor": 1
}